{
 "cells": [
  {
   "cell_type": "code",
   "execution_count": 1,
   "id": "f5044b71-19f7-4cd4-bf93-f9508b26c4ab",
   "metadata": {},
   "outputs": [
    {
     "name": "stdout",
     "output_type": "stream",
     "text": [
      "hello world\n"
     ]
    }
   ],
   "source": [
    "print(\"hello world\") "
   ]
  },
  {
   "cell_type": "markdown",
   "id": "67fa6743-2fa1-4d27-b859-c704482231ff",
   "metadata": {
    "jp-MarkdownHeadingCollapsed": true
   },
   "source": [
    "## Variables"
   ]
  },
  {
   "cell_type": "code",
   "execution_count": 2,
   "id": "485d7ea7-3c75-489d-83d2-7ea6dd04ab72",
   "metadata": {},
   "outputs": [],
   "source": [
    "name = \"yash Dethe\""
   ]
  },
  {
   "cell_type": "code",
   "execution_count": 3,
   "id": "e84bc46a-f4d3-480a-b5c7-2393a62bf034",
   "metadata": {},
   "outputs": [
    {
     "data": {
      "text/plain": [
       "str"
      ]
     },
     "execution_count": 3,
     "metadata": {},
     "output_type": "execute_result"
    }
   ],
   "source": [
    "type(name)"
   ]
  },
  {
   "cell_type": "code",
   "execution_count": 4,
   "id": "9df3f8d1-866e-4949-a12b-be5e5580b97c",
   "metadata": {},
   "outputs": [],
   "source": [
    "number = 50"
   ]
  },
  {
   "cell_type": "code",
   "execution_count": 5,
   "id": "f2772217-19fa-4d6c-9c9f-9ff39e7f3e1d",
   "metadata": {},
   "outputs": [
    {
     "data": {
      "text/plain": [
       "int"
      ]
     },
     "execution_count": 5,
     "metadata": {},
     "output_type": "execute_result"
    }
   ],
   "source": [
    "type(number)"
   ]
  },
  {
   "cell_type": "code",
   "execution_count": 6,
   "id": "f0ac17dd-cbdc-4d87-bda0-42107444b217",
   "metadata": {},
   "outputs": [],
   "source": [
    "decimal = 3.14"
   ]
  },
  {
   "cell_type": "code",
   "execution_count": 7,
   "id": "252373f6-a6cd-4df3-80d8-7ca663009d0a",
   "metadata": {},
   "outputs": [
    {
     "data": {
      "text/plain": [
       "float"
      ]
     },
     "execution_count": 7,
     "metadata": {},
     "output_type": "execute_result"
    }
   ],
   "source": [
    "type(decimal)"
   ]
  },
  {
   "cell_type": "code",
   "execution_count": 8,
   "id": "14081249-88b3-43e4-a30c-6b66edb6bad9",
   "metadata": {},
   "outputs": [],
   "source": [
    "boolean = True "
   ]
  },
  {
   "cell_type": "code",
   "execution_count": 9,
   "id": "b7642e7d-76d0-4545-93a2-b20e2b35771b",
   "metadata": {},
   "outputs": [
    {
     "data": {
      "text/plain": [
       "bool"
      ]
     },
     "execution_count": 9,
     "metadata": {},
     "output_type": "execute_result"
    }
   ],
   "source": [
    "type(boolean)"
   ]
  },
  {
   "cell_type": "code",
   "execution_count": 10,
   "id": "b44f9e3b-fe0c-4b23-9ea5-8cdf352bbbff",
   "metadata": {},
   "outputs": [],
   "source": [
    "## Complex  --->  Combinating of Real And Imaginary Number \n",
    "cmp = 7 + 4j"
   ]
  },
  {
   "cell_type": "code",
   "execution_count": 11,
   "id": "76984ce7-5515-45db-ab12-e77578303982",
   "metadata": {},
   "outputs": [
    {
     "data": {
      "text/plain": [
       "complex"
      ]
     },
     "execution_count": 11,
     "metadata": {},
     "output_type": "execute_result"
    }
   ],
   "source": [
    "type(cmp)"
   ]
  },
  {
   "cell_type": "code",
   "execution_count": 12,
   "id": "2f6247d4-4304-4e18-a8ad-e408fa0b448f",
   "metadata": {},
   "outputs": [],
   "source": [
    "a = 7 - 9j\n",
    "b = 2 + 3j"
   ]
  },
  {
   "cell_type": "code",
   "execution_count": 13,
   "id": "7d455980-20a6-4498-b146-ab0656338c50",
   "metadata": {},
   "outputs": [
    {
     "data": {
      "text/plain": [
       "(7+9j)"
      ]
     },
     "execution_count": 13,
     "metadata": {},
     "output_type": "execute_result"
    }
   ],
   "source": [
    "a.conjugate()"
   ]
  },
  {
   "cell_type": "code",
   "execution_count": 14,
   "id": "6ae87d45-0110-4bac-ae3a-bd884b461e48",
   "metadata": {},
   "outputs": [
    {
     "data": {
      "text/plain": [
       "(2-3j)"
      ]
     },
     "execution_count": 14,
     "metadata": {},
     "output_type": "execute_result"
    }
   ],
   "source": [
    "b.conjugate()"
   ]
  },
  {
   "cell_type": "code",
   "execution_count": 15,
   "id": "7a2af9f4-a79e-4c0b-a7c3-c802ee3b4247",
   "metadata": {},
   "outputs": [
    {
     "data": {
      "text/plain": [
       "(9-6j)"
      ]
     },
     "execution_count": 15,
     "metadata": {},
     "output_type": "execute_result"
    }
   ],
   "source": [
    "a + b "
   ]
  },
  {
   "cell_type": "markdown",
   "id": "eec1c499-f66d-4d7c-b75e-95cdaeda96b7",
   "metadata": {},
   "source": [
    "## Taking Input From the User"
   ]
  },
  {
   "cell_type": "code",
   "execution_count": 16,
   "id": "9a8b0708-e3fb-4cce-9b52-5199f717dab8",
   "metadata": {},
   "outputs": [
    {
     "ename": "KeyboardInterrupt",
     "evalue": "Interrupted by user",
     "output_type": "error",
     "traceback": [
      "\u001b[1;31m---------------------------------------------------------------------------\u001b[0m",
      "\u001b[1;31mKeyboardInterrupt\u001b[0m                         Traceback (most recent call last)",
      "Cell \u001b[1;32mIn[16], line 1\u001b[0m\n\u001b[1;32m----> 1\u001b[0m Number \u001b[38;5;241m=\u001b[39m \u001b[38;5;28;43minput\u001b[39;49m\u001b[43m(\u001b[49m\u001b[38;5;124;43m\"\u001b[39;49m\u001b[38;5;124;43mtell your Name Please : \u001b[39;49m\u001b[38;5;124;43m\"\u001b[39;49m\u001b[43m)\u001b[49m\n",
      "File \u001b[1;32m~\\AppData\\Roaming\\Python\\Python312\\site-packages\\ipykernel\\kernelbase.py:1282\u001b[0m, in \u001b[0;36mKernel.raw_input\u001b[1;34m(self, prompt)\u001b[0m\n\u001b[0;32m   1280\u001b[0m     msg \u001b[38;5;241m=\u001b[39m \u001b[38;5;124m\"\u001b[39m\u001b[38;5;124mraw_input was called, but this frontend does not support input requests.\u001b[39m\u001b[38;5;124m\"\u001b[39m\n\u001b[0;32m   1281\u001b[0m     \u001b[38;5;28;01mraise\u001b[39;00m StdinNotImplementedError(msg)\n\u001b[1;32m-> 1282\u001b[0m \u001b[38;5;28;01mreturn\u001b[39;00m \u001b[38;5;28;43mself\u001b[39;49m\u001b[38;5;241;43m.\u001b[39;49m\u001b[43m_input_request\u001b[49m\u001b[43m(\u001b[49m\n\u001b[0;32m   1283\u001b[0m \u001b[43m    \u001b[49m\u001b[38;5;28;43mstr\u001b[39;49m\u001b[43m(\u001b[49m\u001b[43mprompt\u001b[49m\u001b[43m)\u001b[49m\u001b[43m,\u001b[49m\n\u001b[0;32m   1284\u001b[0m \u001b[43m    \u001b[49m\u001b[38;5;28;43mself\u001b[39;49m\u001b[38;5;241;43m.\u001b[39;49m\u001b[43m_parent_ident\u001b[49m\u001b[43m[\u001b[49m\u001b[38;5;124;43m\"\u001b[39;49m\u001b[38;5;124;43mshell\u001b[39;49m\u001b[38;5;124;43m\"\u001b[39;49m\u001b[43m]\u001b[49m\u001b[43m,\u001b[49m\n\u001b[0;32m   1285\u001b[0m \u001b[43m    \u001b[49m\u001b[38;5;28;43mself\u001b[39;49m\u001b[38;5;241;43m.\u001b[39;49m\u001b[43mget_parent\u001b[49m\u001b[43m(\u001b[49m\u001b[38;5;124;43m\"\u001b[39;49m\u001b[38;5;124;43mshell\u001b[39;49m\u001b[38;5;124;43m\"\u001b[39;49m\u001b[43m)\u001b[49m\u001b[43m,\u001b[49m\n\u001b[0;32m   1286\u001b[0m \u001b[43m    \u001b[49m\u001b[43mpassword\u001b[49m\u001b[38;5;241;43m=\u001b[39;49m\u001b[38;5;28;43;01mFalse\u001b[39;49;00m\u001b[43m,\u001b[49m\n\u001b[0;32m   1287\u001b[0m \u001b[43m\u001b[49m\u001b[43m)\u001b[49m\n",
      "File \u001b[1;32m~\\AppData\\Roaming\\Python\\Python312\\site-packages\\ipykernel\\kernelbase.py:1325\u001b[0m, in \u001b[0;36mKernel._input_request\u001b[1;34m(self, prompt, ident, parent, password)\u001b[0m\n\u001b[0;32m   1322\u001b[0m \u001b[38;5;28;01mexcept\u001b[39;00m \u001b[38;5;167;01mKeyboardInterrupt\u001b[39;00m:\n\u001b[0;32m   1323\u001b[0m     \u001b[38;5;66;03m# re-raise KeyboardInterrupt, to truncate traceback\u001b[39;00m\n\u001b[0;32m   1324\u001b[0m     msg \u001b[38;5;241m=\u001b[39m \u001b[38;5;124m\"\u001b[39m\u001b[38;5;124mInterrupted by user\u001b[39m\u001b[38;5;124m\"\u001b[39m\n\u001b[1;32m-> 1325\u001b[0m     \u001b[38;5;28;01mraise\u001b[39;00m \u001b[38;5;167;01mKeyboardInterrupt\u001b[39;00m(msg) \u001b[38;5;28;01mfrom\u001b[39;00m\u001b[38;5;250m \u001b[39m\u001b[38;5;28;01mNone\u001b[39;00m\n\u001b[0;32m   1326\u001b[0m \u001b[38;5;28;01mexcept\u001b[39;00m \u001b[38;5;167;01mException\u001b[39;00m:\n\u001b[0;32m   1327\u001b[0m     \u001b[38;5;28mself\u001b[39m\u001b[38;5;241m.\u001b[39mlog\u001b[38;5;241m.\u001b[39mwarning(\u001b[38;5;124m\"\u001b[39m\u001b[38;5;124mInvalid Message:\u001b[39m\u001b[38;5;124m\"\u001b[39m, exc_info\u001b[38;5;241m=\u001b[39m\u001b[38;5;28;01mTrue\u001b[39;00m)\n",
      "\u001b[1;31mKeyboardInterrupt\u001b[0m: Interrupted by user"
     ]
    }
   ],
   "source": [
    "Number = input(\"tell your Name Please : \")"
   ]
  },
  {
   "cell_type": "code",
   "execution_count": null,
   "id": "6b6f7d4e-8779-449f-a88a-661efb174424",
   "metadata": {},
   "outputs": [],
   "source": [
    "Number"
   ]
  },
  {
   "cell_type": "code",
   "execution_count": null,
   "id": "c222759a-deed-4ec1-bb72-90e3d88daff6",
   "metadata": {},
   "outputs": [],
   "source": [
    "type(Number)"
   ]
  },
  {
   "cell_type": "code",
   "execution_count": null,
   "id": "d66cfdd1-f911-4ca3-a1ef-7a55d54b9357",
   "metadata": {},
   "outputs": [],
   "source": [
    "## Taking Input Only in Int Type \n",
    "integer  = int(input(\"Please Enter Your Age : \")) "
   ]
  },
  {
   "cell_type": "code",
   "execution_count": null,
   "id": "b1027da6-bac2-4a9a-bd54-db8e878f8d11",
   "metadata": {},
   "outputs": [],
   "source": [
    "integer"
   ]
  },
  {
   "cell_type": "markdown",
   "id": "60d93be0-81cd-4612-a0c7-3ae770dfa91a",
   "metadata": {},
   "source": [
    "## Type Casting "
   ]
  },
  {
   "cell_type": "code",
   "execution_count": null,
   "id": "28936f0c-96e7-446a-892f-fecfef73ba13",
   "metadata": {},
   "outputs": [],
   "source": [
    "int(34)"
   ]
  },
  {
   "cell_type": "code",
   "execution_count": null,
   "id": "a8160c49-ac17-42e9-8161-47c91f035827",
   "metadata": {},
   "outputs": [],
   "source": [
    "int(385.245)"
   ]
  },
  {
   "cell_type": "code",
   "execution_count": null,
   "id": "0bbeb101-bae5-4c62-9c1d-e6ba9a118bfe",
   "metadata": {},
   "outputs": [],
   "source": [
    "float(3.14)"
   ]
  },
  {
   "cell_type": "code",
   "execution_count": null,
   "id": "4ab5abb3-7f62-4bee-8dc6-5a761a4c98fb",
   "metadata": {},
   "outputs": [],
   "source": [
    "float(3)"
   ]
  },
  {
   "cell_type": "code",
   "execution_count": null,
   "id": "ee7764bf-ed59-4619-b5a9-654658234ef4",
   "metadata": {},
   "outputs": [],
   "source": [
    "str(\"Yash\")"
   ]
  },
  {
   "cell_type": "markdown",
   "id": "99b12597-3004-4271-876c-45f83c5bd162",
   "metadata": {
    "jp-MarkdownHeadingCollapsed": true
   },
   "source": [
    "## Type of Type Casting"
   ]
  },
  {
   "cell_type": "code",
   "execution_count": null,
   "id": "a25b8e67-bd3a-4d11-b099-da11cf3ca741",
   "metadata": {},
   "outputs": [],
   "source": [
    "n1 = 1 \n",
    "n2 = 2\n",
    "\n",
    "result  = n1/n2\n",
    "print(result)"
   ]
  },
  {
   "cell_type": "code",
   "execution_count": null,
   "id": "2e159c17-2245-43c9-bfcb-2d2ac651d2b3",
   "metadata": {},
   "outputs": [],
   "source": [
    "type(n1)"
   ]
  },
  {
   "cell_type": "code",
   "execution_count": null,
   "id": "216d8aa8-1ba5-4dde-90b3-898c51207e92",
   "metadata": {},
   "outputs": [],
   "source": [
    "type(n2)"
   ]
  },
  {
   "cell_type": "code",
   "execution_count": null,
   "id": "19359610-c24f-4136-9e45-97335222970f",
   "metadata": {},
   "outputs": [],
   "source": [
    "type(result)"
   ]
  },
  {
   "cell_type": "markdown",
   "id": "5394d0fc-e7bd-4301-b1a3-1c7abf92a88e",
   "metadata": {},
   "source": [
    "## Syntax For Finding Age Using Birth year"
   ]
  },
  {
   "cell_type": "code",
   "execution_count": null,
   "id": "b7389e03-cbcf-433d-b9da-b610e9626195",
   "metadata": {},
   "outputs": [],
   "source": [
    "birthyear = int(input(\"Enter Your Birthyear : \"))\n",
    "age = 2025 - birthyear\n",
    "print(\"Youe Age is\" , age )"
   ]
  },
  {
   "cell_type": "code",
   "execution_count": null,
   "id": "93de8202-b572-4b20-828f-0646050e80da",
   "metadata": {},
   "outputs": [],
   "source": [
    "name  = \"Yash Laxman Dethe\"\n",
    "city = \"Asangaon\"\n",
    "Age = 22"
   ]
  },
  {
   "cell_type": "code",
   "execution_count": null,
   "id": "2d8cb4de-1448-4832-85f7-f8feb56cd6c3",
   "metadata": {},
   "outputs": [],
   "source": [
    "print(\"hello, Myself\", name , \"I Am From\", city ,\"My Age us\", Age)"
   ]
  },
  {
   "cell_type": "code",
   "execution_count": null,
   "id": "757207cb-1334-4392-b119-55f3c09d300b",
   "metadata": {},
   "outputs": [],
   "source": [
    "# Formatted String (f)\n",
    "print(f\"hello, I Am {name} From {city} and my age is {Age}\")"
   ]
  },
  {
   "cell_type": "markdown",
   "id": "513afb58-0895-4ff9-895c-37495e54aabc",
   "metadata": {},
   "source": [
    "## identity operators"
   ]
  },
  {
   "cell_type": "code",
   "execution_count": null,
   "id": "56344e1e-f5fd-49b2-99a7-560892600e83",
   "metadata": {},
   "outputs": [],
   "source": [
    "# is , is not"
   ]
  },
  {
   "cell_type": "code",
   "execution_count": null,
   "id": "3050c69e-3674-4464-b590-2fa2d5ed372f",
   "metadata": {},
   "outputs": [],
   "source": [
    "x1 = 5\n",
    "y1 = 5\n",
    "\n",
    "x2 = \"hello World\"\n",
    "y2 = \"hello World\""
   ]
  },
  {
   "cell_type": "code",
   "execution_count": null,
   "id": "f42de734-f55e-4533-a680-d156c1069056",
   "metadata": {},
   "outputs": [],
   "source": [
    "x1 is y1"
   ]
  },
  {
   "cell_type": "code",
   "execution_count": null,
   "id": "1b243f53-a208-444e-9525-f059061ac872",
   "metadata": {},
   "outputs": [],
   "source": [
    "x1 is not x2"
   ]
  },
  {
   "cell_type": "code",
   "execution_count": null,
   "id": "91450aac-4954-44ed-8627-a523d5e373f7",
   "metadata": {},
   "outputs": [],
   "source": [
    "x1 is x2 "
   ]
  },
  {
   "cell_type": "code",
   "execution_count": null,
   "id": "bfa8e177-5d6b-47b0-b53b-1c56170da45d",
   "metadata": {},
   "outputs": [],
   "source": [
    "y1 is y2"
   ]
  },
  {
   "cell_type": "markdown",
   "id": "826eb403-b7f0-4268-8676-8f48ab13b1dd",
   "metadata": {},
   "source": [
    "## Membership Operators"
   ]
  },
  {
   "cell_type": "code",
   "execution_count": null,
   "id": "03b10b96-2794-4113-8050-01dcd8dc9ddb",
   "metadata": {},
   "outputs": [],
   "source": [
    "a = \"Hello Yash\"\n",
    "b = [1,2,3]"
   ]
  },
  {
   "cell_type": "code",
   "execution_count": null,
   "id": "0b2b4d60-d485-43de-880d-9e9a7570d091",
   "metadata": {},
   "outputs": [],
   "source": [
    "a in b"
   ]
  },
  {
   "cell_type": "code",
   "execution_count": null,
   "id": "0006d37a-b664-4e3d-8a74-927e39de769c",
   "metadata": {},
   "outputs": [],
   "source": [
    "a not in b"
   ]
  },
  {
   "cell_type": "code",
   "execution_count": null,
   "id": "e2658223-7f70-4ee8-afcd-2f51ad7b0dd8",
   "metadata": {},
   "outputs": [],
   "source": [
    "\"o\" in a"
   ]
  },
  {
   "cell_type": "code",
   "execution_count": null,
   "id": "2092a8e8-ddd3-493a-a2c5-5189fc8c65d3",
   "metadata": {},
   "outputs": [],
   "source": [
    "1 in b"
   ]
  },
  {
   "cell_type": "code",
   "execution_count": null,
   "id": "dee0143c-fd3b-487d-99c7-05df1c243214",
   "metadata": {},
   "outputs": [],
   "source": [
    "7 in b"
   ]
  },
  {
   "cell_type": "code",
   "execution_count": null,
   "id": "21e6d322-bf60-4375-a6b2-ea2e304ad041",
   "metadata": {},
   "outputs": [],
   "source": [
    "'z' in a"
   ]
  },
  {
   "cell_type": "markdown",
   "id": "ef67ab35-b355-4fd8-bea3-435907250cc7",
   "metadata": {},
   "source": [
    "## Relational  / comparison operators"
   ]
  },
  {
   "cell_type": "code",
   "execution_count": null,
   "id": "3604ff30-8a23-4af5-851c-59798fa7f9b9",
   "metadata": {},
   "outputs": [],
   "source": [
    " 1==2"
   ]
  },
  {
   "cell_type": "code",
   "execution_count": null,
   "id": "d66302f7-acc0-44be-9a51-44afbc01f5ce",
   "metadata": {},
   "outputs": [],
   "source": [
    "1==1"
   ]
  },
  {
   "cell_type": "code",
   "execution_count": null,
   "id": "0bf3fe8c-cafe-4ddd-a13f-c8f745c318ce",
   "metadata": {},
   "outputs": [],
   "source": [
    "1>6"
   ]
  },
  {
   "cell_type": "code",
   "execution_count": null,
   "id": "fc4715d7-eb49-48df-b5db-2b31406e8f29",
   "metadata": {},
   "outputs": [],
   "source": [
    "6>1"
   ]
  },
  {
   "cell_type": "code",
   "execution_count": null,
   "id": "b653245b-b659-4bd1-8669-d497370ff766",
   "metadata": {},
   "outputs": [],
   "source": [
    "1!=2"
   ]
  },
  {
   "cell_type": "code",
   "execution_count": null,
   "id": "0d447643-a915-4cc8-8a0e-305f77f4e8ed",
   "metadata": {},
   "outputs": [],
   "source": [
    "6>=10"
   ]
  },
  {
   "cell_type": "code",
   "execution_count": null,
   "id": "d26327ad-478e-443c-8416-26b9ed1fb11c",
   "metadata": {},
   "outputs": [],
   "source": [
    "10<=6"
   ]
  },
  {
   "cell_type": "markdown",
   "id": "d6e532c7-22e5-4352-ab5c-7b3f4c50559e",
   "metadata": {},
   "source": [
    "## Logical operators"
   ]
  },
  {
   "cell_type": "code",
   "execution_count": null,
   "id": "2a695b16-c634-42e1-8088-6ed60c5c082b",
   "metadata": {},
   "outputs": [],
   "source": [
    "a = 10 \n",
    "b = 5\n",
    "c = 0"
   ]
  },
  {
   "cell_type": "code",
   "execution_count": null,
   "id": "369ff330-ea84-480f-93d4-2a61466d9675",
   "metadata": {},
   "outputs": [],
   "source": [
    "(a>5) and (b<10) # True + True =  True"
   ]
  },
  {
   "cell_type": "code",
   "execution_count": null,
   "id": "aee7bac4-3677-4000-b4dd-d5ffc1e5cebd",
   "metadata": {},
   "outputs": [],
   "source": [
    "(a>11) and  (b>6) # Flase  + Flase = Flase"
   ]
  },
  {
   "cell_type": "code",
   "execution_count": null,
   "id": "61b8920a-e897-4cc9-996c-188a5667c1d8",
   "metadata": {},
   "outputs": [],
   "source": [
    "(a>7) and (b>7) ## Flase/True + True/Flase =  Flase"
   ]
  },
  {
   "cell_type": "markdown",
   "id": "4a0dd895-37a0-4771-833a-4837f4fd8419",
   "metadata": {},
   "source": [
    "## Control FLow \n",
    "* If- Else Condition"
   ]
  },
  {
   "cell_type": "code",
   "execution_count": null,
   "id": "397815a9-4837-4feb-b4a3-37b508ed6426",
   "metadata": {},
   "outputs": [],
   "source": [
    "A = int(input(\"Please Enter Number : \"))\n",
    "if A == 1:\n",
    "    print(\"Red Light\")\n",
    "elif A == 2 :\n",
    "    print(\"Yellow Light\")\n",
    "elif A == 3 :\n",
    "    print(\"Green Light\")\n",
    "else:\n",
    "    print(\"No Signal\")"
   ]
  },
  {
   "cell_type": "code",
   "execution_count": null,
   "id": "87695fcb-17a7-4ec0-914c-37881fceeb43",
   "metadata": {},
   "outputs": [],
   "source": [
    "a = int(input(\"Please Enter Number : \"))\n",
    "b = int(input(\"Please Enter Number : \"))\n",
    "if a>b :\n",
    "    print(\"a Is Greater Then b In Age\")\n",
    "else:\n",
    "    print(\"b Is Greater Then a In Age\")"
   ]
  },
  {
   "cell_type": "markdown",
   "id": "0fee2302-9d4a-431f-ba97-6bc7b4e1f98b",
   "metadata": {},
   "source": [
    "## While Loops\n",
    "* executes a block of code as long as a specified condition remains true\n"
   ]
  },
  {
   "cell_type": "code",
   "execution_count": 1,
   "id": "1befa93b-cab0-4342-afb9-3a18bd537f88",
   "metadata": {},
   "outputs": [
    {
     "name": "stdin",
     "output_type": "stream",
     "text": [
      "Enter Number:  5\n"
     ]
    },
    {
     "name": "stdout",
     "output_type": "stream",
     "text": [
      "2\n",
      "4\n",
      "6\n",
      "8\n",
      "10\n",
      "Done\n"
     ]
    }
   ],
   "source": [
    "n = int(input(\"Enter Number: \")) ## Strating Of Loop\n",
    "i = 1 ## Ending Of the Loop\n",
    "while (i <= n) :\n",
    "    print(i*2)\n",
    "    i += 1\n",
    "print(\"Done\")"
   ]
  },
  {
   "cell_type": "code",
   "execution_count": 30,
   "id": "5f42fb5d-6d7d-4f8a-9cc6-3dd2ecaf3fba",
   "metadata": {
    "collapsed": true,
    "jupyter": {
     "outputs_hidden": true
    },
    "scrolled": true
   },
   "outputs": [
    {
     "name": "stdout",
     "output_type": "stream",
     "text": [
      "1\n",
      "2\n",
      "3\n",
      "4\n",
      "5\n",
      "6\n",
      "7\n",
      "8\n",
      "9\n",
      "10\n",
      "11\n",
      "12\n",
      "13\n",
      "14\n",
      "15\n",
      "16\n",
      "17\n",
      "18\n",
      "19\n",
      "20\n",
      "21\n",
      "22\n",
      "23\n",
      "24\n",
      "25\n",
      "26\n",
      "27\n",
      "28\n",
      "29\n",
      "30\n",
      "31\n",
      "32\n",
      "33\n",
      "34\n",
      "35\n",
      "36\n",
      "37\n",
      "38\n",
      "39\n",
      "40\n",
      "41\n",
      "42\n",
      "43\n",
      "44\n",
      "45\n",
      "46\n",
      "47\n",
      "48\n",
      "49\n",
      "50\n",
      "51\n",
      "52\n",
      "53\n",
      "54\n",
      "55\n",
      "56\n",
      "57\n",
      "58\n",
      "59\n",
      "60\n",
      "61\n",
      "62\n",
      "63\n",
      "64\n",
      "65\n",
      "66\n",
      "67\n",
      "68\n",
      "69\n",
      "70\n",
      "71\n",
      "72\n",
      "73\n",
      "74\n",
      "75\n",
      "76\n",
      "77\n",
      "78\n",
      "79\n",
      "80\n",
      "81\n",
      "82\n",
      "83\n",
      "84\n",
      "85\n",
      "86\n",
      "87\n",
      "88\n",
      "89\n",
      "90\n",
      "91\n",
      "92\n",
      "93\n",
      "94\n",
      "95\n",
      "96\n",
      "97\n",
      "98\n",
      "99\n",
      "100\n"
     ]
    }
   ],
   "source": [
    "# Print Number From 1 to 100\n",
    "i = 1 \n",
    "while i <= 100:\n",
    "    print(i)\n",
    "    i += 1"
   ]
  },
  {
   "cell_type": "code",
   "execution_count": 32,
   "id": "05ea1b7b-f331-4b20-9f05-4eb6cda27d7e",
   "metadata": {
    "collapsed": true,
    "jupyter": {
     "outputs_hidden": true
    }
   },
   "outputs": [
    {
     "name": "stdout",
     "output_type": "stream",
     "text": [
      "100\n",
      "99\n",
      "98\n",
      "97\n",
      "96\n",
      "95\n",
      "94\n",
      "93\n",
      "92\n",
      "91\n",
      "90\n",
      "89\n",
      "88\n",
      "87\n",
      "86\n",
      "85\n",
      "84\n",
      "83\n",
      "82\n",
      "81\n",
      "80\n",
      "79\n",
      "78\n",
      "77\n",
      "76\n",
      "75\n",
      "74\n",
      "73\n",
      "72\n",
      "71\n",
      "70\n",
      "69\n",
      "68\n",
      "67\n",
      "66\n",
      "65\n",
      "64\n",
      "63\n",
      "62\n",
      "61\n",
      "60\n",
      "59\n",
      "58\n",
      "57\n",
      "56\n",
      "55\n",
      "54\n",
      "53\n",
      "52\n",
      "51\n",
      "50\n",
      "49\n",
      "48\n",
      "47\n",
      "46\n",
      "45\n",
      "44\n",
      "43\n",
      "42\n",
      "41\n",
      "40\n",
      "39\n",
      "38\n",
      "37\n",
      "36\n",
      "35\n",
      "34\n",
      "33\n",
      "32\n",
      "31\n",
      "30\n",
      "29\n",
      "28\n",
      "27\n",
      "26\n",
      "25\n",
      "24\n",
      "23\n",
      "22\n",
      "21\n",
      "20\n",
      "19\n",
      "18\n",
      "17\n",
      "16\n",
      "15\n",
      "14\n",
      "13\n",
      "12\n",
      "11\n",
      "10\n",
      "9\n",
      "8\n",
      "7\n",
      "6\n",
      "5\n",
      "4\n",
      "3\n",
      "2\n",
      "1\n"
     ]
    }
   ],
   "source": [
    "# print Number From 100 to 1\n",
    "i = 100 \n",
    "while i >= 1:\n",
    "    print(i)\n",
    "    i = 1"
   ]
  },
  {
   "cell_type": "code",
   "execution_count": 35,
   "id": "f3b1d745-3023-4cb9-bf06-2e4cbd4ca70c",
   "metadata": {},
   "outputs": [
    {
     "name": "stdin",
     "output_type": "stream",
     "text": [
      "Enter Number :  17\n"
     ]
    },
    {
     "name": "stdout",
     "output_type": "stream",
     "text": [
      "17\n",
      "34\n",
      "51\n",
      "68\n",
      "85\n",
      "102\n",
      "119\n",
      "136\n",
      "153\n",
      "170\n"
     ]
    }
   ],
   "source": [
    "# Print the Multiplication Table of a number n \n",
    "n = int(input(\"Enter Number : \"))\n",
    "i = 1\n",
    "while i <= 10:\n",
    "    print(n*i)\n",
    "    i += 1"
   ]
  },
  {
   "cell_type": "code",
   "execution_count": 48,
   "id": "468931fc-617a-4592-bd08-38c16f60d0f9",
   "metadata": {},
   "outputs": [
    {
     "name": "stdout",
     "output_type": "stream",
     "text": [
      "1\n",
      "4\n",
      "9\n",
      "16\n",
      "25\n",
      "36\n",
      "49\n",
      "64\n",
      "84\n",
      "100\n"
     ]
    }
   ],
   "source": [
    "# Print the Elements Of the Following List using a Loop : \n",
    "n = [1,4,9,16,25,36,49,64,84,100]\n",
    "i = 0 \n",
    "while i < len(n) :\n",
    "    print(n[i])\n",
    "    i += 1"
   ]
  },
  {
   "cell_type": "code",
   "execution_count": null,
   "id": "cdc1b937-0555-4d8e-9c4c-40214027dab9",
   "metadata": {},
   "outputs": [],
   "source": [
    "# Search For A Number x in This Tuple Using Loop :\n",
    "tuple = (1,4,9,16,25,36,49,64,84,100)"
   ]
  }
 ],
 "metadata": {
  "kernelspec": {
   "display_name": "Python [conda env:base] *",
   "language": "python",
   "name": "conda-base-py"
  },
  "language_info": {
   "codemirror_mode": {
    "name": "ipython",
    "version": 3
   },
   "file_extension": ".py",
   "mimetype": "text/x-python",
   "name": "python",
   "nbconvert_exporter": "python",
   "pygments_lexer": "ipython3",
   "version": "3.12.8"
  }
 },
 "nbformat": 4,
 "nbformat_minor": 5
}
